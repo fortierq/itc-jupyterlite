{
 "cells": [
  {
   "cell_type": "markdown",
   "metadata": {},
   "source": [
    "# TP 6 : dessin de fractales (avec récursivité)"
   ]
  },
  {
   "cell_type": "markdown",
   "metadata": {},
   "source": [
    "## `matplotlib`\n",
    "\n",
    "`matplotlib` est un module Python permettant de faire des dessins, que vous avez déjà vu en cours de Physique et qu'on rappelle ici.  \n",
    "Il faut commencer par importer `matplotlib` :"
   ]
  },
  {
   "cell_type": "code",
   "execution_count": 1,
   "metadata": {
    "execution": {
     "iopub.execute_input": "2021-12-12T15:31:04.996623Z",
     "iopub.status.busy": "2021-12-12T15:31:04.996133Z",
     "iopub.status.idle": "2021-12-12T15:31:07.840892Z",
     "shell.execute_reply": "2021-12-12T15:31:07.840435Z"
    }
   },
   "outputs": [],
   "source": [
    "import matplotlib.pyplot as plt"
   ]
  },
  {
   "cell_type": "markdown",
   "metadata": {},
   "source": [
    "Si la ligne précédente n'a pas fonctionné, vous avez peut-être besoin d'installer `matplotlib` avec `pip install matplotlib` (si `pip` est installé sur votre ordinateur).  \n",
    "Il faudra ensuite préfixer toutes les fonctions de `matplotlib` par `plt.`.  \n",
    "La fonction la plus importante est `plt.plot`, qui sert à relier des points par des segments de droite. Si `X` est une liste d'abscisses et `Y` une liste d'ordonnées, `plt.plot(X, Y)` relie les points d'abscisses `X` et d'ordonnées `Y`.  \n",
    "Par exemple, pour relier le point $(3, 7)$ au point $(4, 5)$, on va écrire :"
   ]
  },
  {
   "cell_type": "code",
   "execution_count": 2,
   "metadata": {
    "execution": {
     "iopub.execute_input": "2021-12-12T15:31:07.846454Z",
     "iopub.status.busy": "2021-12-12T15:31:07.846002Z",
     "iopub.status.idle": "2021-12-12T15:31:07.964088Z",
     "shell.execute_reply": "2021-12-12T15:31:07.964716Z"
    }
   },
   "outputs": [
    {
     "data": {
      "image/png": "[encoded data removed]",
      "text/plain": [
       "<Figure size 432x288 with 1 Axes>"
      ]
     },
     "metadata": {
      "needs_background": "light"
     },
     "output_type": "display_data"
    }
   ],
   "source": [
    "plt.plot([3, 4], [7, 5]);"
   ]
  },
  {
   "cell_type": "markdown",
   "metadata": {},
   "source": [
    "**Remarque** : le `;` à la fin de `plot` sert à éviter d'afficher la valeur de retour de `plt.plot`.  \n",
    "**ATTENTION** : Pour relier un point `p = (x1, y1)` à un point `q = (x2, y2)`, on écrit donc `plt.plot([x1, x2], [y1, y2])` et non pas `plt.plot(p, q)`."
   ]
  },
  {
   "cell_type": "markdown",
   "metadata": {
    "tags": [
     "exo"
    ]
   },
   "source": [
    "**Exercice** : Écrire une fonction `segment` telle que, si `p` et `q` sont des couples (des points), `segment(p, q)` dessine le segment d'extrémités `p` et `q`. Par exemple, `segment((3, 7), (4, 5))` doit dessiner le segment sur le dessin ci-dessus."
   ]
  },
  {
   "cell_type": "markdown",
   "metadata": {},
   "source": [
    "Quand on dessine une fonction avec `matplotlib`, on en dessine en fait une approximation : la courbe représentative d'une fonction contenant une infinité de points, il n'est pas possible de la représenter sur un nombre fini de pixels.  \n",
    "On choisit en général de relier des points régulièrement espacés de $h$ sur la courbe qu'on veut représenter. Plus $h$ est petit, plus l'approximation sera bonne mais plus cela va prendre de temps à afficher. Par exemple, voici la courbe de `sin` avec $h = 2$ (à gauche) et $h = 0.01$ (à droite) :"
   ]
  },
  {
   "cell_type": "markdown",
   "metadata": {},
   "source": [
    "Pour afficher la courbe d'une fonction `f`, on écrit `plt.plot(x, y)` où `x` est une liste d'abscisses et `y` la liste des images correspondantes. Par exemple, pour la fonction racine carrée :"
   ]
  },
  {
   "cell_type": "code",
   "execution_count": 3,
   "metadata": {
    "execution": {
     "iopub.execute_input": "2021-12-12T15:31:07.985578Z",
     "iopub.status.busy": "2021-12-12T15:31:07.979983Z",
     "iopub.status.idle": "2021-12-12T15:31:08.057819Z",
     "shell.execute_reply": "2021-12-12T15:31:08.058200Z"
    }
   },
   "outputs": [
    {
     "data": {
      "image/png": "[encoded data removed]",
      "text/plain": [
       "<Figure size 432x288 with 1 Axes>"
      ]
     },
     "metadata": {
      "needs_background": "light"
     },
     "output_type": "display_data"
    }
   ],
   "source": [
    "X, Y = [], []\n",
    "for i in range(1000): # on dessine notre courbe en utilisant 1000 points espacés de 0.01\n",
    "    X.append(i*0.01)\n",
    "    Y.append(X[i]**0.5) # racine carré des abscisses\n",
    "plt.axis(\"equal\")\n",
    "plt.plot(X, Y);"
   ]
  },
  {
   "cell_type": "markdown",
   "metadata": {
    "tags": [
     "exo"
    ]
   },
   "source": [
    "**Exercice** : Afficher la courbe de $f : x \\longmapsto x + \\cos(x)$ sur l'intervalle $[0, 10]$."
   ]
  },
  {
   "cell_type": "markdown",
   "metadata": {},
   "source": [
    "## Rotation\n",
    "<center><img src=https://github.com/fortierq/tikz/blob/master/geometry/basis/change_basis.png?raw=true width=200></center>"
   ]
  },
  {
   "cell_type": "markdown",
   "metadata": {
    "tags": [
     "exo"
    ]
   },
   "source": [
    "**Exercice** : Écrire une fonction `rotation` telle que `rotation(r, d, a)` renvoie le point `p` situé à distance `d` du point `r` et faisant un angle `a` dans le sens trigonométrique.  \n",
    "On rappelle que, si `r` a pour coordonnées $(x_1, y_1)$ et `p` a pour coordonnées $(x_2, y_2)$ :\n",
    "$$\\begin{equation}\n",
    "    \\begin{cases}\n",
    "      x_2 = x_1 + d \\cos(a)\\\\\n",
    "      y_2 = y_1 + d \\sin(a)\n",
    "    \\end{cases}\n",
    "\\end{equation}$$\n",
    "On pourra utiliser `np.cos` et `np.sin` après avoir importé `numpy` (`import numpy as np`)."
   ]
  },
  {
   "cell_type": "markdown",
   "metadata": {
    "tags": [
     "exo"
    ]
   },
   "source": [
    "**Exercice** : Vérifier votre fonction précédente en utilisant la fonction `segment` écrite en début de TP."
   ]
  },
  {
   "cell_type": "markdown",
   "metadata": {},
   "source": [
    "## Fractale\n",
    "\n",
    "Dans cette partie, on veut représenter l'arbre fractal suivant :"
   ]
  },
  {
   "cell_type": "markdown",
   "metadata": {},
   "source": [
    "Pour cela, on va utiliser une fonction récursive en 3 étapes. D'abord, il faut dessiner la base du tronc (remarque : initialement, le tronc est perpendiculaire à l'axe des abscisses mais, dans les appels récursifs, il fera un angle a) :"
   ]
  },
  {
   "cell_type": "markdown",
   "metadata": {},
   "source": [
    "Ensuite, on appelle récursivement notre fonction en partant de $p$ pour dessiner le sous-arbre droit :"
   ]
  },
  {
   "cell_type": "markdown",
   "metadata": {},
   "source": [
    "Et un deuxième appel récursif pour dessiner le sous-arbre gauche (avec un angle différent) :"
   ]
  },
  {
   "cell_type": "markdown",
   "metadata": {
    "tags": [
     "exo"
    ]
   },
   "source": [
    "**Exercice** : Écrire une fonction récursive `arbre` telle que `arbre(r, d, a, n)` dessine un arbre dont le tronc commence au point `r`, est de longueur `d` et avec un angle `a` dans le sens trigonométrique (par rapport à l'axe des abscisses). Les deux sous-arbre Cette fonction devra donc afficher le tronc puis s'appeller récursivement pour afficher deux sous-arbres plus petits, par exemple dont les longueurs sont divisées par `1.2` et les angles augmentés ou diminués de `np.pi/6`. `n` est le nombre d'appels récursifs : on le diminuera à chaque appel récursif et on s'arrêtera lorsque il vaut 0 (c'est le cas de base).  \n",
    "On pourra réutiliser `segment`, `rotation` et compléter la fonction suivante :"
   ]
  },
  {
   "cell_type": "code",
   "execution_count": 4,
   "metadata": {
    "execution": {
     "iopub.execute_input": "2021-12-12T15:31:08.060841Z",
     "iopub.status.busy": "2021-12-12T15:31:08.060464Z",
     "iopub.status.idle": "2021-12-12T15:31:08.063119Z",
     "shell.execute_reply": "2021-12-12T15:31:08.063477Z"
    }
   },
   "outputs": [],
   "source": [
    "def arbre(r, l, angle, n):\n",
    "    if n == 0: # cas de base : on arrête les appels récursifs\n",
    "        return\n",
    "    segment(...) # dessiner le tronc\n",
    "    arbre(...) # dessiner le sous-arbre droit\n",
    "    arbre(...) # dessiner le sous-arbre gauche"
   ]
  }
 ],
 "metadata": {
  "interpreter": {
   "hash": "31f2aee4e71d21fbe5cf8b01ff0e069b9275f58929596ceb00d14d90e3e16cd6"
  },
  "kernelspec": {
   "display_name": "Python 3",
   "language": "python",
   "name": "python3"
  },
  "language_info": {
   "codemirror_mode": {
    "name": "ipython",
    "version": 3
   },
   "file_extension": ".py",
   "mimetype": "text/x-python",
   "name": "python",
   "nbconvert_exporter": "python",
   "pygments_lexer": "ipython3",
   "version": "3.9.6"
  }
 },
 "nbformat": 4,
 "nbformat_minor": 4
}
