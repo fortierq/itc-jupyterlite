{
 "cells": [
  {
   "cell_type": "markdown",
   "metadata": {},
   "source": [
    "# [TP 5 : Récursivité ![Binder](https://mybinder.org/badge.svg)](https://mybinder.org/v2/gh/fortierq/itc-binder/main?urlpath=git-pull%3Frepo%3Dhttps%253A%252F%252Fgithub.com%252Ffortierq%252Fitc1%26urlpath%3Dlab%252Ftree%252Fitc1%252Ffiles%252F2_tp_semestre1%252F5_recursivite.ipynb%26branch%3Dmaster)\n",
    "\n",
    "## Principe général\n",
    "\n",
    "On dit qu'une fonction est **recursive** lorsqu'elle s'appelle elle-même. Voici un exemple de fonction récursive :"
   ]
  },
  {
   "cell_type": "code",
   "execution_count": 1,
   "metadata": {
    "execution": {
     "iopub.execute_input": "2021-12-06T15:02:34.853027Z",
     "iopub.status.busy": "2021-12-06T15:02:34.852496Z",
     "iopub.status.idle": "2021-12-06T15:02:34.860333Z",
     "shell.execute_reply": "2021-12-06T15:02:34.859910Z"
    }
   },
   "outputs": [],
   "source": [
    "def f(n):  # exemple de fonction récursive\n",
    "    if n == 0:  # cas de base\n",
    "        return\n",
    "    print(n)\n",
    "    f(n-1)"
   ]
  },
  {
   "cell_type": "markdown",
   "metadata": {},
   "source": [
    "Si `n` est différent de $0$, `f(n)` appelle `f(n - 1)`. À ce moment, l'appel de `f(n)` se met en pause et `f(n - 1)` est exécuté. Lorsque l'appel à `f(n - 1)` est terminé, l'exécution de `f(n)` reprend là où elle s'était arrêté.  "
   ]
  },
  {
   "cell_type": "code",
   "execution_count": 2,
   "metadata": {
    "execution": {
     "iopub.execute_input": "2021-12-06T15:02:34.865172Z",
     "iopub.status.busy": "2021-12-06T15:02:34.864407Z",
     "iopub.status.idle": "2021-12-06T15:02:34.868108Z",
     "shell.execute_reply": "2021-12-06T15:02:34.867745Z"
    }
   },
   "outputs": [
    {
     "name": "stdout",
     "output_type": "stream",
     "text": [
      "5\n",
      "4\n",
      "3\n",
      "2\n",
      "1\n"
     ]
    }
   ],
   "source": [
    "f(5)  # test"
   ]
  },
  {
   "cell_type": "markdown",
   "metadata": {},
   "source": [
    "Lorsque on appelle `f(5)`, `print(5)` est exécuté (d'où le 5 affiché) puis `f(n - 1)`, qui affiche 4... jusqu'à l'appel de `f(0)` qui s'arrête sans faire d'affichage.  \n",
    "L'exécution de `f(1)` reprend alors, qui s'arrête, qui permet à `f(2)` de reprendre son calcul... jusqu'à `f(5)` qui s'arrête.  \n",
    "Ci-dessous, vous pouvez tester cet exécution étape par étape avec Python tutor :\n",
    "<center><iframe width=\"800\" height=\"500\" frameborder=\"0\" src=\"https://pythontutor.com/iframe-embed.html#code=def%20f%28n%29%3A%20%20%23%20exemple%20de%20fonction%20r%C3%A9cursive%0A%20%20%20%20if%20n%20%3D%3D%200%3A%0A%20%20%20%20%20%20%20%20return%0A%20%20%20%20print%28n%29%0A%20%20%20%20f%28n-1%29%0A%20%20%20%20%0Af%285%29&codeDivHeight=400&codeDivWidth=350&cumulative=false&curInstr=0&heapPrimitives=nevernest&origin=opt-frontend.js&py=3&rawInputLstJSON=%5B%5D&textReferences=false\"> </iframe></center>"
   ]
  },
  {
   "cell_type": "markdown",
   "metadata": {},
   "source": [
    "**Exercice** : Qu'affiche le code suivant ? Le deviner puis vérifier.  \n",
    "```python\n",
    "def f(n):  # exemple de fonction récursive\n",
    "    if n == 0:\n",
    "        return\n",
    "    print(n)\n",
    "    f(n-1)\n",
    "```"
   ]
  },
  {
   "cell_type": "markdown",
   "metadata": {},
   "source": [
    "> Une fonction récursive possède toujours :\n",
    "> - Un (ou plusieurs) **cas de base** où la fonction renvoie directement une valeur, sans faire d'appel récursif. Sans cas de base, une fonction récursive ne s'arrête jamais (de la même façon qu'un`while` peut faire boucle infinie).  \n",
    "> - Un **cas général** où la fonction s'appelle récursivement sur un problème plus petit (par exemple pour $n- 1$) pour résoudre le problème (pour $n$).  \n",
    "> L'écriture d'une fonction récursive ressemble donc beaucoup à une démonstration par récurrence : il faut ramener le problème à un sous-problème que l'on peut résoudre récursivement, et identifier un cas de base."
   ]
  },
  {
   "cell_type": "markdown",
   "metadata": {},
   "source": [
    "**Exercice** : Écrire une fonction récursive `dessin` tel que `dessin(n)` affiche le dessin ci-dessous, avec `n` lignes.  \n",
    "```\n",
    "*****\n",
    "****\n",
    "***\n",
    "**\n",
    "*\n",
    "```\n",
    "On pourra utiliser `print(\"*\", end=\"\")` qui permet d'afficher `*` sans sauter de ligne (et `print()` pour sauter une ligne, quand nécessaire)."
   ]
  },
  {
   "cell_type": "code",
   "execution_count": 3,
   "metadata": {
    "execution": {
     "iopub.execute_input": "2021-12-06T15:02:34.874084Z",
     "iopub.status.busy": "2021-12-06T15:02:34.873117Z",
     "iopub.status.idle": "2021-12-06T15:02:34.875571Z",
     "shell.execute_reply": "2021-12-06T15:02:34.875212Z"
    }
   },
   "outputs": [
    {
     "name": "stdout",
     "output_type": "stream",
     "text": [
      "*****\n",
      "****\n",
      "***\n",
      "**\n",
      "*\n"
     ]
    }
   ],
   "source": [
    "def dessin(n):\n",
    "    if n == 0:\n",
    "        return\n",
    "    for i in range(n):\n",
    "        print(\"*\", end=\"\")\n",
    "    print()\n",
    "    dessin(n-1)\n",
    "dessin(5)"
   ]
  },
  {
   "cell_type": "markdown",
   "metadata": {},
   "source": [
    "**Exercice** (plus difficile) : En utilisant une fonction récursive et avec une méthode similaire, dessiner une figure du genre suivant :\n",
    "```\n",
    "*\n",
    "**\n",
    "***\n",
    "****\n",
    "****\n",
    "***\n",
    "**\n",
    "*\n",
    "```"
   ]
  },
  {
   "cell_type": "code",
   "execution_count": 4,
   "metadata": {
    "execution": {
     "iopub.execute_input": "2021-12-06T15:02:34.879348Z",
     "iopub.status.busy": "2021-12-06T15:02:34.878941Z",
     "iopub.status.idle": "2021-12-06T15:02:34.884616Z",
     "shell.execute_reply": "2021-12-06T15:02:34.884274Z"
    }
   },
   "outputs": [
    {
     "name": "stdout",
     "output_type": "stream",
     "text": [
      "*\n",
      "**\n",
      "***\n",
      "****\n",
      "****\n",
      "***\n",
      "**\n",
      "*\n"
     ]
    }
   ],
   "source": [
    "def dessin(k, n):\n",
    "    if n == k:\n",
    "        return\n",
    "    for i in range(k):\n",
    "        print(\"*\", end=\"\")\n",
    "    print()\n",
    "\n",
    "    dessin(k+1, n)\n",
    "    for i in range(k):\n",
    "        print(\"*\", end=\"\")\n",
    "    print()\n",
    "    \n",
    "dessin(1, 5)"
   ]
  },
  {
   "cell_type": "markdown",
   "metadata": {},
   "source": []
  },
  {
   "cell_type": "markdown",
   "metadata": {},
   "source": [
    "## Applications simples"
   ]
  },
  {
   "cell_type": "markdown",
   "metadata": {},
   "source": [
    "**Exercice** : En utilisant une boucle, écrire une fonction `somme` telle que `somme(n)` renvoie la somme des carrés des entiers de 1 à $n$ (c'est-à-dire $1^2 + 2^2 + 3^2 + ... + n^2$)."
   ]
  },
  {
   "cell_type": "markdown",
   "metadata": {},
   "source": [
    "On peut aussi résoudre l'exercice précédent en remarquant que, en posant $S(n) = \\displaystyle\\sum_{k = 1}^n k^2$, on a l'équation de récurrence :\n",
    "$$S(n) = S(n - 1) + n^2$$\n",
    "$$S(0) = 0$$\n",
    "On peut donc en déduire une fonction récursive :"
   ]
  },
  {
   "cell_type": "code",
   "execution_count": 5,
   "metadata": {
    "execution": {
     "iopub.execute_input": "2021-12-06T15:02:34.893048Z",
     "iopub.status.busy": "2021-12-06T15:02:34.891870Z",
     "iopub.status.idle": "2021-12-06T15:02:34.896891Z",
     "shell.execute_reply": "2021-12-06T15:02:34.896531Z"
    }
   },
   "outputs": [
    {
     "data": {
      "text/plain": [
       "55"
      ]
     },
     "execution_count": 5,
     "metadata": {},
     "output_type": "execute_result"
    }
   ],
   "source": [
    "def somme(n):\n",
    "    if n == 0:  # cas de base\n",
    "        return 0\n",
    "    else:  # cas général, où on utilise l'équation de récurrence\n",
    "        return somme(n - 1) + n**2\n",
    "\n",
    "somme(5)  # test"
   ]
  },
  {
   "cell_type": "markdown",
   "metadata": {},
   "source": [
    "Encore une fois, il peut être utile de visualiser l'exécution avec Python tutor :\n",
    "<center><iframe width=\"800\" height=\"500\" frameborder=\"0\" src=\"https://pythontutor.com/iframe-embed.html#code=def%20somme%28n%29%3A%0A%20%20%20%20if%20n%20%3D%3D%200%3A%0A%20%20%20%20%20%20%20%20return%200%0A%20%20%20%20else%3A%0A%20%20%20%20%20%20%20%20return%20somme%28n%20-%201%29%20%2B%20n**2%0A%0Asomme%285%29&codeDivHeight=400&codeDivWidth=350&cumulative=false&curInstr=0&heapPrimitives=nevernest&origin=opt-frontend.js&py=3&rawInputLstJSON=%5B%5D&textReferences=false\"> </iframe></center>"
   ]
  },
  {
   "cell_type": "markdown",
   "metadata": {},
   "source": [
    "**Exercice** :\n",
    "1. On souhaite calculer $n!$ ($= n\\times (n - 1)\\times ... \\times 2\\times 1$). Exprimer $n!$ en fonction de $(n - 1)!$.  \n",
    "2. En déduire une fonction récursive `fact` telle que `fact(n)` renvoie $n!$."
   ]
  },
  {
   "cell_type": "markdown",
   "metadata": {},
   "source": [
    "## Dichotomie en récursif\n",
    "\n",
    "On rappelle l'algorithme par dichotomie permettant de savoir si un élément `e` appartient à une liste `L` **triée** (revoir si besoin le TP précédent pour plus de détails) :  "
   ]
  },
  {
   "cell_type": "code",
   "execution_count": 6,
   "metadata": {
    "execution": {
     "iopub.execute_input": "2021-12-06T15:02:34.901156Z",
     "iopub.status.busy": "2021-12-06T15:02:34.900737Z",
     "iopub.status.idle": "2021-12-06T15:02:34.903559Z",
     "shell.execute_reply": "2021-12-06T15:02:34.903203Z"
    }
   },
   "outputs": [],
   "source": [
    "def dichotomie(e, L):\n",
    "    i, j = 0, len(L) - 1  # i et j sont les indices de L entre lesquels on cherche e\n",
    "    while i <= j: # tant qu'il reste au moins 1 élément entre les indices i et j\n",
    "        m = (i + j)//2 # milieu de i et j\n",
    "        if e < L[m]:\n",
    "            j = m - 1 # regarder dans la partie gauche\n",
    "        elif e > L[m]:\n",
    "            i = m + 1 # regarder dans la partie droite\n",
    "        else:\n",
    "            return True # on a trouvé e\n",
    "    return False # e n'a pas été trouvé"
   ]
  },
  {
   "cell_type": "markdown",
   "metadata": {},
   "source": [
    "**Exercice** : Réécrire `dichotomie` sous forme de fonction récursive. Tester sur des exemples."
   ]
  }
 ],
 "metadata": {
  "interpreter": {
   "hash": "31f2aee4e71d21fbe5cf8b01ff0e069b9275f58929596ceb00d14d90e3e16cd6"
  },
  "kernelspec": {
   "display_name": "Python 3.7.3 64-bit",
   "language": "python",
   "name": "python3"
  },
  "language_info": {
   "codemirror_mode": {
    "name": "ipython",
    "version": 3
   },
   "file_extension": ".py",
   "mimetype": "text/x-python",
   "name": "python",
   "nbconvert_exporter": "python",
   "pygments_lexer": "ipython3",
   "version": "3.9.6"
  }
 },
 "nbformat": 4,
 "nbformat_minor": 2
}
